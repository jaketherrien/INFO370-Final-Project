{
 "cells": [
  {
   "cell_type": "code",
   "execution_count": 1,
   "metadata": {},
   "outputs": [],
   "source": [
    "import numpy as np\n",
    "import pandas as pd\n",
    "\n",
    "import matplotlib.pyplot as plt\n",
    "from sklearn.model_selection import train_test_split # typically done at the start of the script\n",
    "from sklearn.neighbors import KNeighborsClassifier\n",
    "from sklearn.model_selection import GridSearchCV\n",
    "from sklearn.metrics import accuracy_score\n",
    "from sklearn import linear_model\n",
    "from sklearn.linear_model import LogisticRegression\n",
    "from sklearn.metrics import make_scorer\n",
    "from sklearn.metrics import log_loss\n",
    "\n",
    "\n",
    "\n",
    "from sklearn.ensemble import RandomForestClassifier\n",
    "# from sklearn.model_selection import KFold\n",
    "# from sklearn.model_selection import cross_val_score\n",
    "# from sklearn.pipeline import make_pipeline\n",
    "# from sklearn.preprocessing import MinMaxScaler\n",
    "# from sklearn.tree import DecisionTreeClassifier\n",
    "# from sklearn.decomposition import PCA\n",
    "# from sklearn.neural_network import MLPClassifier\n",
    "# import seaborn as sns # for visualiation\n",
    "# from sklearn.datasets import make_blobs\n",
    "# from sklearn.ensemble import RandomForestClassifier\n",
    "# from sklearn.metrics import confusion_matrix\n",
    "\n",
    "\n",
    "\n",
    "\n"
   ]
  },
  {
   "cell_type": "code",
   "execution_count": 2,
   "metadata": {},
   "outputs": [
    {
     "data": {
      "text/html": [
       "<div>\n",
       "<style>\n",
       "    .dataframe thead tr:only-child th {\n",
       "        text-align: right;\n",
       "    }\n",
       "\n",
       "    .dataframe thead th {\n",
       "        text-align: left;\n",
       "    }\n",
       "\n",
       "    .dataframe tbody tr th {\n",
       "        vertical-align: top;\n",
       "    }\n",
       "</style>\n",
       "<table border=\"1\" class=\"dataframe\">\n",
       "  <thead>\n",
       "    <tr style=\"text-align: right;\">\n",
       "      <th></th>\n",
       "      <th>Unnamed: 0</th>\n",
       "      <th>State</th>\n",
       "      <th>year</th>\n",
       "      <th>Number.of.districts</th>\n",
       "      <th>Minimum</th>\n",
       "      <th>Maximum</th>\n",
       "      <th>Mean</th>\n",
       "      <th>score</th>\n",
       "    </tr>\n",
       "  </thead>\n",
       "  <tbody>\n",
       "    <tr>\n",
       "      <th>0</th>\n",
       "      <td>1</td>\n",
       "      <td>Alabama</td>\n",
       "      <td>1995</td>\n",
       "      <td>127</td>\n",
       "      <td>5691657.6</td>\n",
       "      <td>405581866.2</td>\n",
       "      <td>4.101663e+07</td>\n",
       "      <td>0.701875</td>\n",
       "    </tr>\n",
       "    <tr>\n",
       "      <th>1</th>\n",
       "      <td>2</td>\n",
       "      <td>Alabama</td>\n",
       "      <td>2000</td>\n",
       "      <td>128</td>\n",
       "      <td>7786867.2</td>\n",
       "      <td>551756732.8</td>\n",
       "      <td>5.373821e+07</td>\n",
       "      <td>0.695625</td>\n",
       "    </tr>\n",
       "    <tr>\n",
       "      <th>2</th>\n",
       "      <td>3</td>\n",
       "      <td>Alabama</td>\n",
       "      <td>2005</td>\n",
       "      <td>131</td>\n",
       "      <td>6607702.2</td>\n",
       "      <td>661439354.4</td>\n",
       "      <td>5.463843e+07</td>\n",
       "      <td>0.704583</td>\n",
       "    </tr>\n",
       "    <tr>\n",
       "      <th>3</th>\n",
       "      <td>4</td>\n",
       "      <td>Alabama</td>\n",
       "      <td>2010</td>\n",
       "      <td>132</td>\n",
       "      <td>6317688.3</td>\n",
       "      <td>631356264.0</td>\n",
       "      <td>6.290127e+07</td>\n",
       "      <td>0.676250</td>\n",
       "    </tr>\n",
       "    <tr>\n",
       "      <th>4</th>\n",
       "      <td>5</td>\n",
       "      <td>Alabama</td>\n",
       "      <td>2014</td>\n",
       "      <td>136</td>\n",
       "      <td>5017000.0</td>\n",
       "      <td>580513000.0</td>\n",
       "      <td>5.626182e+07</td>\n",
       "      <td>0.673333</td>\n",
       "    </tr>\n",
       "  </tbody>\n",
       "</table>\n",
       "</div>"
      ],
      "text/plain": [
       "   Unnamed: 0    State  year Number.of.districts    Minimum      Maximum  \\\n",
       "0           1  Alabama  1995                 127  5691657.6  405581866.2   \n",
       "1           2  Alabama  2000                 128  7786867.2  551756732.8   \n",
       "2           3  Alabama  2005                 131  6607702.2  661439354.4   \n",
       "3           4  Alabama  2010                 132  6317688.3  631356264.0   \n",
       "4           5  Alabama  2014                 136  5017000.0  580513000.0   \n",
       "\n",
       "           Mean     score  \n",
       "0  4.101663e+07  0.701875  \n",
       "1  5.373821e+07  0.695625  \n",
       "2  5.463843e+07  0.704583  \n",
       "3  6.290127e+07  0.676250  \n",
       "4  5.626182e+07  0.673333  "
      ]
     },
     "execution_count": 2,
     "metadata": {},
     "output_type": "execute_result"
    }
   ],
   "source": [
    "## wrangled data\n",
    "data = pd.read_csv('./data/funding_and_scores.csv')\n",
    "data.head()"
   ]
  },
  {
   "cell_type": "code",
   "execution_count": 3,
   "metadata": {},
   "outputs": [
    {
     "name": "stdout",
     "output_type": "stream",
     "text": [
      "<class 'pandas.core.frame.DataFrame'>\n",
      "RangeIndex: 260 entries, 0 to 259\n",
      "Data columns (total 8 columns):\n",
      "Unnamed: 0             260 non-null int64\n",
      "State                  260 non-null object\n",
      "year                   260 non-null int64\n",
      "Number.of.districts    260 non-null object\n",
      "Minimum                260 non-null float64\n",
      "Maximum                260 non-null float64\n",
      "Mean                   260 non-null float64\n",
      "score                  260 non-null float64\n",
      "dtypes: float64(4), int64(2), object(2)\n",
      "memory usage: 16.3+ KB\n"
     ]
    }
   ],
   "source": [
    "data.info()"
   ]
  },
  {
   "cell_type": "code",
   "execution_count": 4,
   "metadata": {},
   "outputs": [],
   "source": [
    "# numeric = data.select_dtypes(include=['int64', 'float64'])"
   ]
  },
  {
   "cell_type": "code",
   "execution_count": null,
   "metadata": {
    "collapsed": true
   },
   "outputs": [],
   "source": []
  },
  {
   "cell_type": "code",
   "execution_count": 5,
   "metadata": {
    "collapsed": true
   },
   "outputs": [],
   "source": [
    "# Standardize features\n",
    "def standardize(df, numeric_only=True):\n",
    "    numeric = df.select_dtypes(include=['int64', 'float64'])\n",
    "    \n",
    "    # subtracy mean and divide by std\n",
    "    df[numeric.columns] = (numeric - numeric.mean()) / numeric.std()\n",
    "    \n",
    "    return df\n",
    "\n",
    "def pre_process_data(df):\n",
    "    print(\"Input shape:\\t{}\".format(df.shape))\n",
    "        \n",
    "\n",
    "    df = standardize(df)\n",
    "    print(\"After standardization {}\".format(df.shape))\n",
    "        \n",
    "    # create dummy variables for categoricals\n",
    "    df = pd.get_dummies(df)\n",
    "    print(\"After converting categoricals:\\t{}\".format(df.shape))\n",
    "    \n",
    "\n",
    "#     # match test set and training set columns\n",
    "#     if enforce_cols is not None:\n",
    "#         to_drop = np.setdiff1d(df.columns, enforce_cols)\n",
    "#         to_add = np.setdiff1d(enforce_cols, df.columns)\n",
    "\n",
    "#         df.drop(to_drop, axis=1, inplace=True)\n",
    "#         df = df.assign(**{c: 0 for c in to_add})\n",
    "    \n",
    "    df.fillna(0, inplace=True)\n",
    "    \n",
    "    return df"
   ]
  },
  {
   "cell_type": "code",
   "execution_count": 6,
   "metadata": {},
   "outputs": [],
   "source": [
    "# test = data[data['year'] == 2014]\n"
   ]
  },
  {
   "cell_type": "code",
   "execution_count": null,
   "metadata": {
    "collapsed": true
   },
   "outputs": [],
   "source": []
  },
  {
   "cell_type": "code",
   "execution_count": null,
   "metadata": {
    "collapsed": true
   },
   "outputs": [],
   "source": []
  },
  {
   "cell_type": "code",
   "execution_count": null,
   "metadata": {
    "collapsed": true
   },
   "outputs": [],
   "source": []
  },
  {
   "cell_type": "code",
   "execution_count": 8,
   "metadata": {},
   "outputs": [
    {
     "data": {
      "text/plain": [
       "0      0.701875\n",
       "1      0.695625\n",
       "2      0.704583\n",
       "3      0.676250\n",
       "4      0.673333\n",
       "5      0.646250\n",
       "6      0.640000\n",
       "7      0.636250\n",
       "8      0.630417\n",
       "9      0.622500\n",
       "10     0.653750\n",
       "11     0.655000\n",
       "12     0.648333\n",
       "13     0.641250\n",
       "14     0.646667\n",
       "15     0.697500\n",
       "16     0.695000\n",
       "17     0.712083\n",
       "18     0.705000\n",
       "19     0.703333\n",
       "20     0.628750\n",
       "21     0.634375\n",
       "22     0.633333\n",
       "23     0.630417\n",
       "24     0.621667\n",
       "25     0.671250\n",
       "26     0.675625\n",
       "27     0.695833\n",
       "28     0.707917\n",
       "29     0.723333\n",
       "         ...   \n",
       "230    0.628750\n",
       "231    0.635625\n",
       "232    0.639167\n",
       "233    0.640833\n",
       "234    0.647500\n",
       "235    0.626875\n",
       "236    0.631875\n",
       "237    0.635417\n",
       "238    0.631667\n",
       "239    0.638750\n",
       "240    0.648750\n",
       "241    0.658750\n",
       "242    0.654167\n",
       "243    0.650000\n",
       "244    0.623333\n",
       "245    0.645000\n",
       "246    0.649375\n",
       "247    0.643333\n",
       "248    0.630000\n",
       "249    0.625417\n",
       "250    0.726875\n",
       "251    0.737500\n",
       "252    0.735417\n",
       "253    0.736250\n",
       "254    0.737917\n",
       "255    0.680000\n",
       "256    0.682500\n",
       "257    0.683333\n",
       "258    0.705000\n",
       "259    0.723750\n",
       "Name: score, Length: 260, dtype: float64"
      ]
     },
     "execution_count": 8,
     "metadata": {},
     "output_type": "execute_result"
    }
   ],
   "source": [
    "data_label = data.score\n",
    "data_label"
   ]
  },
  {
   "cell_type": "code",
   "execution_count": 9,
   "metadata": {},
   "outputs": [
    {
     "ename": "AttributeError",
     "evalue": "'DataFrame' object has no attribute 'pre_process_data'",
     "output_type": "error",
     "traceback": [
      "\u001b[1;31m---------------------------------------------------------------------------\u001b[0m",
      "\u001b[1;31mAttributeError\u001b[0m                            Traceback (most recent call last)",
      "\u001b[1;32m<ipython-input-9-e9618969db32>\u001b[0m in \u001b[0;36m<module>\u001b[1;34m()\u001b[0m\n\u001b[1;32m----> 1\u001b[1;33m \u001b[0mdata_feature\u001b[0m \u001b[1;33m=\u001b[0m \u001b[0mdata\u001b[0m\u001b[1;33m.\u001b[0m\u001b[0mpre_process_data\u001b[0m\u001b[1;33m(\u001b[0m\u001b[0mdata\u001b[0m\u001b[1;33m.\u001b[0m\u001b[0mdrop\u001b[0m\u001b[1;33m(\u001b[0m\u001b[1;34m'score'\u001b[0m\u001b[1;33m,\u001b[0m \u001b[0maxis\u001b[0m\u001b[1;33m=\u001b[0m\u001b[1;36m1\u001b[0m\u001b[1;33m)\u001b[0m\u001b[1;33m)\u001b[0m\u001b[1;33m\u001b[0m\u001b[0m\n\u001b[0m",
      "\u001b[1;32m~\\Anaconda3\\lib\\site-packages\\pandas\\core\\generic.py\u001b[0m in \u001b[0;36m__getattr__\u001b[1;34m(self, name)\u001b[0m\n\u001b[0;32m   3079\u001b[0m             \u001b[1;32mif\u001b[0m \u001b[0mname\u001b[0m \u001b[1;32min\u001b[0m \u001b[0mself\u001b[0m\u001b[1;33m.\u001b[0m\u001b[0m_info_axis\u001b[0m\u001b[1;33m:\u001b[0m\u001b[1;33m\u001b[0m\u001b[0m\n\u001b[0;32m   3080\u001b[0m                 \u001b[1;32mreturn\u001b[0m \u001b[0mself\u001b[0m\u001b[1;33m[\u001b[0m\u001b[0mname\u001b[0m\u001b[1;33m]\u001b[0m\u001b[1;33m\u001b[0m\u001b[0m\n\u001b[1;32m-> 3081\u001b[1;33m             \u001b[1;32mreturn\u001b[0m \u001b[0mobject\u001b[0m\u001b[1;33m.\u001b[0m\u001b[0m__getattribute__\u001b[0m\u001b[1;33m(\u001b[0m\u001b[0mself\u001b[0m\u001b[1;33m,\u001b[0m \u001b[0mname\u001b[0m\u001b[1;33m)\u001b[0m\u001b[1;33m\u001b[0m\u001b[0m\n\u001b[0m\u001b[0;32m   3082\u001b[0m \u001b[1;33m\u001b[0m\u001b[0m\n\u001b[0;32m   3083\u001b[0m     \u001b[1;32mdef\u001b[0m \u001b[0m__setattr__\u001b[0m\u001b[1;33m(\u001b[0m\u001b[0mself\u001b[0m\u001b[1;33m,\u001b[0m \u001b[0mname\u001b[0m\u001b[1;33m,\u001b[0m \u001b[0mvalue\u001b[0m\u001b[1;33m)\u001b[0m\u001b[1;33m:\u001b[0m\u001b[1;33m\u001b[0m\u001b[0m\n",
      "\u001b[1;31mAttributeError\u001b[0m: 'DataFrame' object has no attribute 'pre_process_data'"
     ]
    }
   ],
   "source": [
    "data_feature = pre_process_data(data.drop('score', axis=1))\n"
   ]
  },
  {
   "cell_type": "code",
   "execution_count": null,
   "metadata": {},
   "outputs": [],
   "source": [
    "data_feature.head()"
   ]
  },
  {
   "cell_type": "code",
   "execution_count": null,
   "metadata": {},
   "outputs": [],
   "source": []
  },
  {
   "cell_type": "code",
   "execution_count": null,
   "metadata": {},
   "outputs": [],
   "source": [
    "c = pre_process_data(data_feature)"
   ]
  },
  {
   "cell_type": "code",
   "execution_count": null,
   "metadata": {},
   "outputs": [],
   "source": []
  },
  {
   "cell_type": "code",
   "execution_count": null,
   "metadata": {},
   "outputs": [],
   "source": [
    "## Split data to training and testing \n",
    "train_features, test_features, train_outcome, test_outcome = train_test_split(data_feature, data_label, test_size = 0.3, random_state = 11)\n"
   ]
  },
  {
   "cell_type": "code",
   "execution_count": null,
   "metadata": {
    "collapsed": true
   },
   "outputs": [],
   "source": [
    "## Split training data to training and validation\n",
    "train_small_features, validation_features, train_small_outcome, validation_outcome = train_test_split(train_features, train_outcome, test_size = 0.2, random_state = 11)\n"
   ]
  },
  {
   "cell_type": "code",
   "execution_count": null,
   "metadata": {},
   "outputs": [],
   "source": [
    "len(train_small_features)"
   ]
  },
  {
   "cell_type": "code",
   "execution_count": null,
   "metadata": {},
   "outputs": [],
   "source": [
    "len(train_small_outcome)"
   ]
  },
  {
   "cell_type": "code",
   "execution_count": null,
   "metadata": {},
   "outputs": [],
   "source": [
    "### logistic regression ###\n",
    "param_grid = {'C': [0.001, 0.01, 0.1, 1, 10, 100, 1000] }"
   ]
  },
  {
   "cell_type": "code",
   "execution_count": null,
   "metadata": {},
   "outputs": [],
   "source": [
    "grid_search = GridSearchCV(LogisticRegression(), param_grid, cv=10, scoring=make_scorer(log_loss))\n"
   ]
  },
  {
   "cell_type": "code",
   "execution_count": null,
   "metadata": {},
   "outputs": [],
   "source": [
    "grid_search.fit(train_small_features, train_small_outcome)"
   ]
  },
  {
   "cell_type": "code",
   "execution_count": null,
   "metadata": {
    "collapsed": true
   },
   "outputs": [],
   "source": []
  },
  {
   "cell_type": "code",
   "execution_count": null,
   "metadata": {
    "collapsed": true
   },
   "outputs": [],
   "source": []
  },
  {
   "cell_type": "code",
   "execution_count": null,
   "metadata": {
    "collapsed": true
   },
   "outputs": [],
   "source": []
  },
  {
   "cell_type": "code",
   "execution_count": null,
   "metadata": {
    "collapsed": true
   },
   "outputs": [],
   "source": []
  },
  {
   "cell_type": "code",
   "execution_count": null,
   "metadata": {
    "collapsed": true
   },
   "outputs": [],
   "source": []
  },
  {
   "cell_type": "code",
   "execution_count": null,
   "metadata": {},
   "outputs": [],
   "source": [
    "knc = KNeighborsClassifier()\n",
    "\n",
    "param_grid_knc = {'kneighborsclassifier__n_neighbors': np.arange(1,10)}\n",
    "\n",
    "rfc = RandomForestClassifier()\n",
    "\n",
    "param_grid_rfc = {'randomforestclassifier__n_estimators': np.arange(1,10)}\n",
    "\n",
    "dtc = DecisionTreeClassifier()\n",
    "\n",
    "param_grid_dtc = {'decisiontreeclassifier__max_depth': np.arange(1,10)}\n",
    "\n",
    "nn = MLPClassifier() \n",
    "\n",
    "param_grid_clf = {'mlpclassifier__hidden_layer_sizes': np.arange(1,12),\n",
    "\n",
    "                  'mlpclassifier__activation': ['identity', 'logistic', 'tanh', 'relu']}\n",
    "\n",
    "nn.get_params().keys()"
   ]
  },
  {
   "cell_type": "code",
   "execution_count": null,
   "metadata": {
    "collapsed": true
   },
   "outputs": [],
   "source": [
    "def run_model(model, param_grid, xtrain, ytrain, do_pca = False):\n",
    "    if(do_pca == True):\n",
    "        pca = PCA(n_components = 10)\n",
    "        scaler = MinMaxScaler()\n",
    "        pipe = make_pipeline(pca, model)\n",
    "        grid = GridSearchCV(pipe,param_grid)\n",
    "        grid.fit(xtrain, ytrain)\n",
    "        grid.best_params_\n",
    "        accuracy = grid.score(xtrain, ytrain)\n",
    "        print(f\"In-sample accuracy: {accuracy:0.2%}\")\n",
    "        return(grid)\n",
    "    scaler = MinMaxScaler()\n",
    "    pipe = make_pipeline(model)\n",
    "    grid = GridSearchCV(pipe,param_grid)\n",
    "    grid.fit(xtrain, ytrain)\n",
    "    grid.best_params_\n",
    "    accuracy = grid.score(xtrain, ytrain)\n",
    "    print(f\"In-sample accuracy: {accuracy:0.2%}\")\n",
    "    return(grid)"
   ]
  },
  {
   "cell_type": "code",
   "execution_count": null,
   "metadata": {
    "collapsed": true
   },
   "outputs": [],
   "source": [
    "reg = linear_model.Lasso()\n",
    "\n",
    "param_grid_reg = {'lasso__alpha': np.arange(0.05,0.2),\n",
    "                  'lasso__copy_X': [True, False],\n",
    "                 'lasso__fit_intercept': [True, False],\n",
    "                 'lasso__max_iter': np.arange(500, 2000),\n",
    "                 'lasso__normalize': [True, False],\n",
    "                 'lasso__positive': [True, False],\n",
    "                 'lasso__precompute': [True, False],\n",
    "                 'lasso__selecton': ['cyclic'],\n",
    "                 'lasso__warm_start': [True, False]}"
   ]
  },
  {
   "cell_type": "code",
   "execution_count": null,
   "metadata": {},
   "outputs": [],
   "source": [
    "run_model(reg, param_grid_reg, train_small_features, train_small_outcome, True)"
   ]
  },
  {
   "cell_type": "code",
   "execution_count": null,
   "metadata": {
    "collapsed": true
   },
   "outputs": [],
   "source": [
    "from sklearn.linear_model import ElasticNetCV\n",
    "regr = ElasticNetCV()\n",
    "param_grid_regr = {'elasticnetcv__copy_X': [True, False],\n",
    "                 'elasticnetcv__fit_intercept': [True, False],\n",
    "                 'elasticnetcv__max_iter': np.arange(500, 2000),\n",
    "                 'elasticnetcv__normalize': [True, False],\n",
    "                 'elasticnetcv__cv': np.arange(5,10),\n",
    "                  'elasticnetcv__random_state': np.arange(0,1),\n",
    "                 'elasticnetcv__n_jobs': np.arange(1,5),\n",
    "                 'elasticnetcv__selecton': ['cyclic']}"
   ]
  },
  {
   "cell_type": "code",
   "execution_count": null,
   "metadata": {},
   "outputs": [],
   "source": [
    "run_model(regr, param_grid_regr, train_small_features, train_small_outcome, do_pca = False)"
   ]
  },
  {
   "cell_type": "code",
   "execution_count": null,
   "metadata": {},
   "outputs": [],
   "source": [
    "est"
   ]
  },
  {
   "cell_type": "code",
   "execution_count": null,
   "metadata": {
    "collapsed": true
   },
   "outputs": [],
   "source": []
  }
 ],
 "metadata": {
  "kernelspec": {
   "display_name": "Python 3",
   "language": "python",
   "name": "python3"
  },
  "language_info": {
   "codemirror_mode": {
    "name": "ipython",
    "version": 3
   },
   "file_extension": ".py",
   "mimetype": "text/x-python",
   "name": "python",
   "nbconvert_exporter": "python",
   "pygments_lexer": "ipython3",
   "version": "3.6.3"
  }
 },
 "nbformat": 4,
 "nbformat_minor": 2
}
